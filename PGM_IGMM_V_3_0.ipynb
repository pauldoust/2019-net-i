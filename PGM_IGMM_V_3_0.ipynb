{
  "nbformat": 4,
  "nbformat_minor": 0,
  "metadata": {
    "colab": {
      "name": "PGM - IGMM V.3.0",
      "provenance": [],
      "collapsed_sections": [
        "AF_jwioOFLnD"
      ],
      "toc_visible": true,
      "include_colab_link": true
    },
    "kernelspec": {
      "name": "python3",
      "display_name": "Python 3"
    },
    "widgets": {
      "application/vnd.jupyter.widget-state+json": {
        "a08027c72b6746d09654731436bd1049": {
          "model_module": "@jupyter-widgets/controls",
          "model_name": "VBoxModel",
          "state": {
            "_view_name": "VBoxView",
            "_dom_classes": [
              "widget-interact"
            ],
            "_model_name": "VBoxModel",
            "_view_module": "@jupyter-widgets/controls",
            "_model_module_version": "1.5.0",
            "_view_count": null,
            "_view_module_version": "1.5.0",
            "box_style": "",
            "layout": "IPY_MODEL_efb8b9e033054cbb909e5ef25561c88f",
            "_model_module": "@jupyter-widgets/controls",
            "children": [
              "IPY_MODEL_d4ca4f001c734897bdd8de59e442ff35",
              "IPY_MODEL_bc79fbd04d9e4220b81fbef1cd7b2f91",
              "IPY_MODEL_37f2593d1ae840fd80674ac802b8ac98",
              "IPY_MODEL_e7e77d191dad4a72831be2d259b3d278",
              "IPY_MODEL_b40e0a1939c949758e36a62dcb5c8442",
              "IPY_MODEL_67ca358dfc954ca9815f3589d19e5a4e",
              "IPY_MODEL_4f7912b0a33b48398bc3fc53978cee42"
            ]
          }
        },
        "efb8b9e033054cbb909e5ef25561c88f": {
          "model_module": "@jupyter-widgets/base",
          "model_name": "LayoutModel",
          "state": {
            "_view_name": "LayoutView",
            "grid_template_rows": null,
            "right": null,
            "justify_content": null,
            "_view_module": "@jupyter-widgets/base",
            "overflow": null,
            "_model_module_version": "1.2.0",
            "_view_count": null,
            "flex_flow": null,
            "width": null,
            "min_width": null,
            "border": null,
            "align_items": null,
            "bottom": null,
            "_model_module": "@jupyter-widgets/base",
            "top": null,
            "grid_column": null,
            "overflow_y": null,
            "overflow_x": null,
            "grid_auto_flow": null,
            "grid_area": null,
            "grid_template_columns": null,
            "flex": null,
            "_model_name": "LayoutModel",
            "justify_items": null,
            "grid_row": null,
            "max_height": null,
            "align_content": null,
            "visibility": null,
            "align_self": null,
            "height": null,
            "min_height": null,
            "padding": null,
            "grid_auto_rows": null,
            "grid_gap": null,
            "max_width": null,
            "order": null,
            "_view_module_version": "1.2.0",
            "grid_template_areas": null,
            "object_position": null,
            "object_fit": null,
            "grid_auto_columns": null,
            "margin": null,
            "display": null,
            "left": null
          }
        },
        "d4ca4f001c734897bdd8de59e442ff35": {
          "model_module": "@jupyter-widgets/controls",
          "model_name": "IntSliderModel",
          "state": {
            "_view_name": "IntSliderView",
            "style": "IPY_MODEL_2efcfebe6bf34a66b50ad690470acd01",
            "_dom_classes": [],
            "description": "n_iter",
            "step": 1,
            "_model_name": "IntSliderModel",
            "orientation": "horizontal",
            "max": 1000,
            "_view_module": "@jupyter-widgets/controls",
            "_model_module_version": "1.5.0",
            "value": 10,
            "_view_count": null,
            "disabled": false,
            "_view_module_version": "1.5.0",
            "min": 1,
            "continuous_update": true,
            "readout_format": "d",
            "description_tooltip": null,
            "readout": true,
            "_model_module": "@jupyter-widgets/controls",
            "layout": "IPY_MODEL_7ff7900acfaa4a40b2148fff6c0f5d7a"
          }
        },
        "bc79fbd04d9e4220b81fbef1cd7b2f91": {
          "model_module": "@jupyter-widgets/controls",
          "model_name": "FloatSliderModel",
          "state": {
            "_view_name": "FloatSliderView",
            "style": "IPY_MODEL_028c25686ba6455eb4b7900bd7750231",
            "_dom_classes": [],
            "description": "alpha",
            "step": 0.1,
            "_model_name": "FloatSliderModel",
            "orientation": "horizontal",
            "max": 1000,
            "_view_module": "@jupyter-widgets/controls",
            "_model_module_version": "1.5.0",
            "value": 5,
            "_view_count": null,
            "disabled": false,
            "_view_module_version": "1.5.0",
            "min": 1,
            "continuous_update": true,
            "readout_format": ".2f",
            "description_tooltip": null,
            "readout": true,
            "_model_module": "@jupyter-widgets/controls",
            "layout": "IPY_MODEL_c86c7a1924454d16afca463ce26f9a29"
          }
        },
        "37f2593d1ae840fd80674ac802b8ac98": {
          "model_module": "@jupyter-widgets/controls",
          "model_name": "FloatSliderModel",
          "state": {
            "_view_name": "FloatSliderView",
            "style": "IPY_MODEL_848d5bb3b86c40d6a41a4c08ecd0b720",
            "_dom_classes": [],
            "description": "k_0",
            "step": 0.1,
            "_model_name": "FloatSliderModel",
            "orientation": "horizontal",
            "max": 300,
            "_view_module": "@jupyter-widgets/controls",
            "_model_module_version": "1.5.0",
            "value": 5,
            "_view_count": null,
            "disabled": false,
            "_view_module_version": "1.5.0",
            "min": 0,
            "continuous_update": true,
            "readout_format": ".2f",
            "description_tooltip": null,
            "readout": true,
            "_model_module": "@jupyter-widgets/controls",
            "layout": "IPY_MODEL_44432d5ad11f4f95a920efb3555b3686"
          }
        },
        "e7e77d191dad4a72831be2d259b3d278": {
          "model_module": "@jupyter-widgets/controls",
          "model_name": "IntSliderModel",
          "state": {
            "_view_name": "IntSliderView",
            "style": "IPY_MODEL_1f4750963cb0434fa1feafd9bce7cd38",
            "_dom_classes": [],
            "description": "v_0",
            "step": 1,
            "_model_name": "IntSliderModel",
            "orientation": "horizontal",
            "max": 360,
            "_view_module": "@jupyter-widgets/controls",
            "_model_module_version": "1.5.0",
            "value": 123,
            "_view_count": null,
            "disabled": false,
            "_view_module_version": "1.5.0",
            "min": 120,
            "continuous_update": true,
            "readout_format": "d",
            "description_tooltip": null,
            "readout": true,
            "_model_module": "@jupyter-widgets/controls",
            "layout": "IPY_MODEL_f3d66c317da244b2b9ef9cf9b9dc658f"
          }
        },
        "b40e0a1939c949758e36a62dcb5c8442": {
          "model_module": "@jupyter-widgets/controls",
          "model_name": "FloatSliderModel",
          "state": {
            "_view_name": "FloatSliderView",
            "style": "IPY_MODEL_827ba822d8d34940ab2adb303951c236",
            "_dom_classes": [],
            "description": "S_0_scale",
            "step": 0.1,
            "_model_name": "FloatSliderModel",
            "orientation": "horizontal",
            "max": 300,
            "_view_module": "@jupyter-widgets/controls",
            "_model_module_version": "1.5.0",
            "value": 1,
            "_view_count": null,
            "disabled": false,
            "_view_module_version": "1.5.0",
            "min": 0,
            "continuous_update": true,
            "readout_format": ".2f",
            "description_tooltip": null,
            "readout": true,
            "_model_module": "@jupyter-widgets/controls",
            "layout": "IPY_MODEL_aa664f0817b74df1b4480b7c591b807d"
          }
        },
        "67ca358dfc954ca9815f3589d19e5a4e": {
          "model_module": "@jupyter-widgets/controls",
          "model_name": "ButtonModel",
          "state": {
            "_view_name": "ButtonView",
            "style": "IPY_MODEL_69cc6859f6eb4e45a906120882fe651d",
            "_dom_classes": [],
            "description": "Run IGMM",
            "_model_name": "ButtonModel",
            "button_style": "",
            "_view_module": "@jupyter-widgets/controls",
            "_model_module_version": "1.5.0",
            "tooltip": "",
            "_view_count": null,
            "disabled": false,
            "_view_module_version": "1.5.0",
            "layout": "IPY_MODEL_a88b1f7b46e54d7c86183a577e6d3345",
            "_model_module": "@jupyter-widgets/controls",
            "icon": ""
          }
        },
        "4f7912b0a33b48398bc3fc53978cee42": {
          "model_module": "@jupyter-widgets/output",
          "model_name": "OutputModel",
          "state": {
            "_view_name": "OutputView",
            "msg_id": "",
            "_dom_classes": [],
            "_model_name": "OutputModel",
            "outputs": [],
            "_view_module": "@jupyter-widgets/output",
            "_model_module_version": "1.0.0",
            "_view_count": null,
            "_view_module_version": "1.0.0",
            "layout": "IPY_MODEL_e84e5b10d68743f08c4cb2088b10df10",
            "_model_module": "@jupyter-widgets/output"
          }
        },
        "2efcfebe6bf34a66b50ad690470acd01": {
          "model_module": "@jupyter-widgets/controls",
          "model_name": "SliderStyleModel",
          "state": {
            "_view_name": "StyleView",
            "handle_color": null,
            "_model_name": "SliderStyleModel",
            "description_width": "",
            "_view_module": "@jupyter-widgets/base",
            "_model_module_version": "1.5.0",
            "_view_count": null,
            "_view_module_version": "1.2.0",
            "_model_module": "@jupyter-widgets/controls"
          }
        },
        "7ff7900acfaa4a40b2148fff6c0f5d7a": {
          "model_module": "@jupyter-widgets/base",
          "model_name": "LayoutModel",
          "state": {
            "_view_name": "LayoutView",
            "grid_template_rows": null,
            "right": null,
            "justify_content": null,
            "_view_module": "@jupyter-widgets/base",
            "overflow": null,
            "_model_module_version": "1.2.0",
            "_view_count": null,
            "flex_flow": null,
            "width": null,
            "min_width": null,
            "border": null,
            "align_items": null,
            "bottom": null,
            "_model_module": "@jupyter-widgets/base",
            "top": null,
            "grid_column": null,
            "overflow_y": null,
            "overflow_x": null,
            "grid_auto_flow": null,
            "grid_area": null,
            "grid_template_columns": null,
            "flex": null,
            "_model_name": "LayoutModel",
            "justify_items": null,
            "grid_row": null,
            "max_height": null,
            "align_content": null,
            "visibility": null,
            "align_self": null,
            "height": null,
            "min_height": null,
            "padding": null,
            "grid_auto_rows": null,
            "grid_gap": null,
            "max_width": null,
            "order": null,
            "_view_module_version": "1.2.0",
            "grid_template_areas": null,
            "object_position": null,
            "object_fit": null,
            "grid_auto_columns": null,
            "margin": null,
            "display": null,
            "left": null
          }
        },
        "028c25686ba6455eb4b7900bd7750231": {
          "model_module": "@jupyter-widgets/controls",
          "model_name": "SliderStyleModel",
          "state": {
            "_view_name": "StyleView",
            "handle_color": null,
            "_model_name": "SliderStyleModel",
            "description_width": "",
            "_view_module": "@jupyter-widgets/base",
            "_model_module_version": "1.5.0",
            "_view_count": null,
            "_view_module_version": "1.2.0",
            "_model_module": "@jupyter-widgets/controls"
          }
        },
        "c86c7a1924454d16afca463ce26f9a29": {
          "model_module": "@jupyter-widgets/base",
          "model_name": "LayoutModel",
          "state": {
            "_view_name": "LayoutView",
            "grid_template_rows": null,
            "right": null,
            "justify_content": null,
            "_view_module": "@jupyter-widgets/base",
            "overflow": null,
            "_model_module_version": "1.2.0",
            "_view_count": null,
            "flex_flow": null,
            "width": null,
            "min_width": null,
            "border": null,
            "align_items": null,
            "bottom": null,
            "_model_module": "@jupyter-widgets/base",
            "top": null,
            "grid_column": null,
            "overflow_y": null,
            "overflow_x": null,
            "grid_auto_flow": null,
            "grid_area": null,
            "grid_template_columns": null,
            "flex": null,
            "_model_name": "LayoutModel",
            "justify_items": null,
            "grid_row": null,
            "max_height": null,
            "align_content": null,
            "visibility": null,
            "align_self": null,
            "height": null,
            "min_height": null,
            "padding": null,
            "grid_auto_rows": null,
            "grid_gap": null,
            "max_width": null,
            "order": null,
            "_view_module_version": "1.2.0",
            "grid_template_areas": null,
            "object_position": null,
            "object_fit": null,
            "grid_auto_columns": null,
            "margin": null,
            "display": null,
            "left": null
          }
        },
        "848d5bb3b86c40d6a41a4c08ecd0b720": {
          "model_module": "@jupyter-widgets/controls",
          "model_name": "SliderStyleModel",
          "state": {
            "_view_name": "StyleView",
            "handle_color": null,
            "_model_name": "SliderStyleModel",
            "description_width": "",
            "_view_module": "@jupyter-widgets/base",
            "_model_module_version": "1.5.0",
            "_view_count": null,
            "_view_module_version": "1.2.0",
            "_model_module": "@jupyter-widgets/controls"
          }
        },
        "44432d5ad11f4f95a920efb3555b3686": {
          "model_module": "@jupyter-widgets/base",
          "model_name": "LayoutModel",
          "state": {
            "_view_name": "LayoutView",
            "grid_template_rows": null,
            "right": null,
            "justify_content": null,
            "_view_module": "@jupyter-widgets/base",
            "overflow": null,
            "_model_module_version": "1.2.0",
            "_view_count": null,
            "flex_flow": null,
            "width": null,
            "min_width": null,
            "border": null,
            "align_items": null,
            "bottom": null,
            "_model_module": "@jupyter-widgets/base",
            "top": null,
            "grid_column": null,
            "overflow_y": null,
            "overflow_x": null,
            "grid_auto_flow": null,
            "grid_area": null,
            "grid_template_columns": null,
            "flex": null,
            "_model_name": "LayoutModel",
            "justify_items": null,
            "grid_row": null,
            "max_height": null,
            "align_content": null,
            "visibility": null,
            "align_self": null,
            "height": null,
            "min_height": null,
            "padding": null,
            "grid_auto_rows": null,
            "grid_gap": null,
            "max_width": null,
            "order": null,
            "_view_module_version": "1.2.0",
            "grid_template_areas": null,
            "object_position": null,
            "object_fit": null,
            "grid_auto_columns": null,
            "margin": null,
            "display": null,
            "left": null
          }
        },
        "1f4750963cb0434fa1feafd9bce7cd38": {
          "model_module": "@jupyter-widgets/controls",
          "model_name": "SliderStyleModel",
          "state": {
            "_view_name": "StyleView",
            "handle_color": null,
            "_model_name": "SliderStyleModel",
            "description_width": "",
            "_view_module": "@jupyter-widgets/base",
            "_model_module_version": "1.5.0",
            "_view_count": null,
            "_view_module_version": "1.2.0",
            "_model_module": "@jupyter-widgets/controls"
          }
        },
        "f3d66c317da244b2b9ef9cf9b9dc658f": {
          "model_module": "@jupyter-widgets/base",
          "model_name": "LayoutModel",
          "state": {
            "_view_name": "LayoutView",
            "grid_template_rows": null,
            "right": null,
            "justify_content": null,
            "_view_module": "@jupyter-widgets/base",
            "overflow": null,
            "_model_module_version": "1.2.0",
            "_view_count": null,
            "flex_flow": null,
            "width": null,
            "min_width": null,
            "border": null,
            "align_items": null,
            "bottom": null,
            "_model_module": "@jupyter-widgets/base",
            "top": null,
            "grid_column": null,
            "overflow_y": null,
            "overflow_x": null,
            "grid_auto_flow": null,
            "grid_area": null,
            "grid_template_columns": null,
            "flex": null,
            "_model_name": "LayoutModel",
            "justify_items": null,
            "grid_row": null,
            "max_height": null,
            "align_content": null,
            "visibility": null,
            "align_self": null,
            "height": null,
            "min_height": null,
            "padding": null,
            "grid_auto_rows": null,
            "grid_gap": null,
            "max_width": null,
            "order": null,
            "_view_module_version": "1.2.0",
            "grid_template_areas": null,
            "object_position": null,
            "object_fit": null,
            "grid_auto_columns": null,
            "margin": null,
            "display": null,
            "left": null
          }
        },
        "827ba822d8d34940ab2adb303951c236": {
          "model_module": "@jupyter-widgets/controls",
          "model_name": "SliderStyleModel",
          "state": {
            "_view_name": "StyleView",
            "handle_color": null,
            "_model_name": "SliderStyleModel",
            "description_width": "",
            "_view_module": "@jupyter-widgets/base",
            "_model_module_version": "1.5.0",
            "_view_count": null,
            "_view_module_version": "1.2.0",
            "_model_module": "@jupyter-widgets/controls"
          }
        },
        "aa664f0817b74df1b4480b7c591b807d": {
          "model_module": "@jupyter-widgets/base",
          "model_name": "LayoutModel",
          "state": {
            "_view_name": "LayoutView",
            "grid_template_rows": null,
            "right": null,
            "justify_content": null,
            "_view_module": "@jupyter-widgets/base",
            "overflow": null,
            "_model_module_version": "1.2.0",
            "_view_count": null,
            "flex_flow": null,
            "width": null,
            "min_width": null,
            "border": null,
            "align_items": null,
            "bottom": null,
            "_model_module": "@jupyter-widgets/base",
            "top": null,
            "grid_column": null,
            "overflow_y": null,
            "overflow_x": null,
            "grid_auto_flow": null,
            "grid_area": null,
            "grid_template_columns": null,
            "flex": null,
            "_model_name": "LayoutModel",
            "justify_items": null,
            "grid_row": null,
            "max_height": null,
            "align_content": null,
            "visibility": null,
            "align_self": null,
            "height": null,
            "min_height": null,
            "padding": null,
            "grid_auto_rows": null,
            "grid_gap": null,
            "max_width": null,
            "order": null,
            "_view_module_version": "1.2.0",
            "grid_template_areas": null,
            "object_position": null,
            "object_fit": null,
            "grid_auto_columns": null,
            "margin": null,
            "display": null,
            "left": null
          }
        },
        "69cc6859f6eb4e45a906120882fe651d": {
          "model_module": "@jupyter-widgets/controls",
          "model_name": "ButtonStyleModel",
          "state": {
            "_view_name": "StyleView",
            "_model_name": "ButtonStyleModel",
            "_view_module": "@jupyter-widgets/base",
            "_model_module_version": "1.5.0",
            "_view_count": null,
            "button_color": null,
            "font_weight": "",
            "_view_module_version": "1.2.0",
            "_model_module": "@jupyter-widgets/controls"
          }
        },
        "a88b1f7b46e54d7c86183a577e6d3345": {
          "model_module": "@jupyter-widgets/base",
          "model_name": "LayoutModel",
          "state": {
            "_view_name": "LayoutView",
            "grid_template_rows": null,
            "right": null,
            "justify_content": null,
            "_view_module": "@jupyter-widgets/base",
            "overflow": null,
            "_model_module_version": "1.2.0",
            "_view_count": null,
            "flex_flow": null,
            "width": null,
            "min_width": null,
            "border": null,
            "align_items": null,
            "bottom": null,
            "_model_module": "@jupyter-widgets/base",
            "top": null,
            "grid_column": null,
            "overflow_y": null,
            "overflow_x": null,
            "grid_auto_flow": null,
            "grid_area": null,
            "grid_template_columns": null,
            "flex": null,
            "_model_name": "LayoutModel",
            "justify_items": null,
            "grid_row": null,
            "max_height": null,
            "align_content": null,
            "visibility": null,
            "align_self": null,
            "height": null,
            "min_height": null,
            "padding": null,
            "grid_auto_rows": null,
            "grid_gap": null,
            "max_width": null,
            "order": null,
            "_view_module_version": "1.2.0",
            "grid_template_areas": null,
            "object_position": null,
            "object_fit": null,
            "grid_auto_columns": null,
            "margin": null,
            "display": null,
            "left": null
          }
        }
      }
    }
  },
  "cells": [
    {
      "cell_type": "markdown",
      "metadata": {
        "id": "view-in-github",
        "colab_type": "text"
      },
      "source": [
        "<a href=\"https://colab.research.google.com/github/pauldoust/2019-net-i/blob/master/PGM_IGMM_V_3_0.ipynb\" target=\"_parent\"><img src=\"https://colab.research.google.com/assets/colab-badge.svg\" alt=\"Open In Colab\"/></a>"
      ]
    },
    {
      "cell_type": "markdown",
      "metadata": {
        "id": "nonn5G3t-HNm",
        "colab_type": "text"
      },
      "source": [
        "# <center> PGM Project</center>\n",
        "## <center>Dirichlet Process Mixture Models</center>\n",
        "\n",
        "\n",
        "\n",
        "---\n",
        "\n",
        "\n",
        "*   Mohammad POUL DOUST\n",
        "*   Andrei MARDALE\n",
        "*   Etienne EKPO\n",
        "*   Laetitia COUGE\n",
        "\n"
      ]
    },
    {
      "cell_type": "markdown",
      "metadata": {
        "id": "AF_jwioOFLnD",
        "colab_type": "text"
      },
      "source": [
        "#Environment"
      ]
    },
    {
      "cell_type": "code",
      "metadata": {
        "id": "n9lQMGOcEUQ5",
        "colab_type": "code",
        "outputId": "ddbf9d78-f877-4c6b-a7f3-5b3ecc29b3d4",
        "colab": {
          "base_uri": "https://localhost:8080/",
          "height": 438
        }
      },
      "source": [
        "!wget 'https://drive.google.com/u/0/uc?id=16e_ADiChYk9cLZ63yUcfqsOY4_7PMStP&export=download' -O \"pgm_project.zip\";\n",
        "!unzip pgm_project.zip;"
      ],
      "execution_count": 0,
      "outputs": [
        {
          "output_type": "stream",
          "text": [
            "--2020-01-27 04:58:17--  https://drive.google.com/u/0/uc?id=16e_ADiChYk9cLZ63yUcfqsOY4_7PMStP&export=download\n",
            "Resolving drive.google.com (drive.google.com)... 74.125.142.139, 74.125.142.102, 74.125.142.100, ...\n",
            "Connecting to drive.google.com (drive.google.com)|74.125.142.139|:443... connected.\n",
            "HTTP request sent, awaiting response... 302 Moved Temporarily\n",
            "Location: https://doc-0g-2c-docs.googleusercontent.com/docs/securesc/ha0ro937gcuc7l7deffksulhg5h7mbp1/fb42f51ej4dv3ldsnp74o6k5tl7db9j5/1580097600000/13355630674048329756/*/16e_ADiChYk9cLZ63yUcfqsOY4_7PMStP?e=download [following]\n",
            "Warning: wildcards not supported in HTTP.\n",
            "--2020-01-27 04:58:18--  https://doc-0g-2c-docs.googleusercontent.com/docs/securesc/ha0ro937gcuc7l7deffksulhg5h7mbp1/fb42f51ej4dv3ldsnp74o6k5tl7db9j5/1580097600000/13355630674048329756/*/16e_ADiChYk9cLZ63yUcfqsOY4_7PMStP?e=download\n",
            "Resolving doc-0g-2c-docs.googleusercontent.com (doc-0g-2c-docs.googleusercontent.com)... 74.125.142.132, 2607:f8b0:400e:c08::84\n",
            "Connecting to doc-0g-2c-docs.googleusercontent.com (doc-0g-2c-docs.googleusercontent.com)|74.125.142.132|:443... connected.\n",
            "HTTP request sent, awaiting response... 200 OK\n",
            "Length: unspecified [application/x-zip-compressed]\n",
            "Saving to: ‘pgm_project.zip’\n",
            "\n",
            "pgm_project.zip         [ <=>                ]   3.04M  --.-KB/s    in 0.01s   \n",
            "\n",
            "2020-01-27 04:58:18 (226 MB/s) - ‘pgm_project.zip’ saved [3186538]\n",
            "\n",
            "Archive:  pgm_project.zip\n",
            "  inflating: gaussian_components_diag.py  \n",
            "  inflating: igmm.py                 \n",
            "  inflating: train_only.npy          \n",
            "  inflating: ui.py                   \n",
            "  inflating: valid.npy               \n",
            "  inflating: visualization.py        \n"
          ],
          "name": "stdout"
        }
      ]
    },
    {
      "cell_type": "markdown",
      "metadata": {
        "id": "Nb_75DY5FQr4",
        "colab_type": "text"
      },
      "source": [
        "# Code"
      ]
    },
    {
      "cell_type": "code",
      "metadata": {
        "id": "xb_i6jw8ZOZx",
        "colab_type": "code",
        "colab": {}
      },
      "source": [
        "import matplotlib.pyplot as plt\n",
        "from matplotlib import cm as cm\n",
        "import numpy as np\n",
        "import random\n",
        "import sys\n",
        "from sklearn.manifold.t_sne import TSNE\n",
        "from igmm import IGMM\n",
        "import visualization as vs\n",
        "import ui\n",
        "import plotly.graph_objects as go\n",
        "import time\n",
        "from textwrap import wrap"
      ],
      "execution_count": 0,
      "outputs": []
    },
    {
      "cell_type": "code",
      "metadata": {
        "id": "C11QWlb7ZutD",
        "colab_type": "code",
        "colab": {}
      },
      "source": [
        "main_data = np.load('valid.npy')\n",
        "# print(main_data.shape)\n",
        "data = main_data[:500]"
      ],
      "execution_count": 0,
      "outputs": []
    },
    {
      "cell_type": "code",
      "metadata": {
        "id": "BpYxKXWN2__n",
        "colab_type": "code",
        "outputId": "84862778-73fc-4d36-ee7d-fa118e390db5",
        "colab": {
          "base_uri": "https://localhost:8080/",
          "height": 209,
          "referenced_widgets": [
            "a08027c72b6746d09654731436bd1049",
            "efb8b9e033054cbb909e5ef25561c88f",
            "d4ca4f001c734897bdd8de59e442ff35",
            "bc79fbd04d9e4220b81fbef1cd7b2f91",
            "37f2593d1ae840fd80674ac802b8ac98",
            "e7e77d191dad4a72831be2d259b3d278",
            "b40e0a1939c949758e36a62dcb5c8442",
            "67ca358dfc954ca9815f3589d19e5a4e",
            "4f7912b0a33b48398bc3fc53978cee42",
            "2efcfebe6bf34a66b50ad690470acd01",
            "7ff7900acfaa4a40b2148fff6c0f5d7a",
            "028c25686ba6455eb4b7900bd7750231",
            "c86c7a1924454d16afca463ce26f9a29",
            "848d5bb3b86c40d6a41a4c08ecd0b720",
            "44432d5ad11f4f95a920efb3555b3686",
            "1f4750963cb0434fa1feafd9bce7cd38",
            "f3d66c317da244b2b9ef9cf9b9dc658f",
            "827ba822d8d34940ab2adb303951c236",
            "aa664f0817b74df1b4480b7c591b807d",
            "69cc6859f6eb4e45a906120882fe651d",
            "a88b1f7b46e54d7c86183a577e6d3345"
          ]
        }
      },
      "source": [
        "igmmui = ui.IgmmUI(data)\n",
        "igmmui.tune_params()\n"
      ],
      "execution_count": 0,
      "outputs": [
        {
          "output_type": "display_data",
          "data": {
            "application/vnd.jupyter.widget-view+json": {
              "model_id": "a08027c72b6746d09654731436bd1049",
              "version_minor": 0,
              "version_major": 2
            },
            "text/plain": [
              "interactive(children=(IntSlider(value=10, description='n_iter', max=1000, min=1), FloatSlider(value=5.0, descr…"
            ]
          },
          "metadata": {
            "tags": []
          }
        }
      ]
    },
    {
      "cell_type": "code",
      "metadata": {
        "id": "xwQ3nkNoiBON",
        "colab_type": "code",
        "outputId": "c1450850-d578-444e-e6f4-918f3e6b68e9",
        "colab": {
          "base_uri": "https://localhost:8080/",
          "height": 542
        }
      },
      "source": [
        "igmmui.visualize(igmmui.X_2d, igmmui.clusters_2d, igmmui.centers_2d)"
      ],
      "execution_count": 0,
      "outputs": [
        {
          "output_type": "display_data",
          "data": {
            "text/html": [
              "<html>\n",
              "<head><meta charset=\"utf-8\" /></head>\n",
              "<body>\n",
              "    <div>\n",
              "            <script src=\"https://cdnjs.cloudflare.com/ajax/libs/mathjax/2.7.5/MathJax.js?config=TeX-AMS-MML_SVG\"></script><script type=\"text/javascript\">if (window.MathJax) {MathJax.Hub.Config({SVG: {font: \"STIX-Web\"}});}</script>\n",
              "                <script type=\"text/javascript\">window.PlotlyConfig = {MathJaxConfig: 'local'};</script>\n",
              "        <script src=\"https://cdn.plot.ly/plotly-latest.min.js\"></script>    \n",
              "            <div id=\"b0e307bf-7d15-45b4-a69e-93caccf7a6b6\" class=\"plotly-graph-div\" style=\"height:525px; width:100%;\"></div>\n",
              "            <script type=\"text/javascript\">\n",
              "                \n",
              "                    window.PLOTLYENV=window.PLOTLYENV || {};\n",
              "                    \n",
              "                if (document.getElementById(\"b0e307bf-7d15-45b4-a69e-93caccf7a6b6\")) {\n",
              "                    Plotly.newPlot(\n",
              "                        'b0e307bf-7d15-45b4-a69e-93caccf7a6b6',\n",
              "                        [{\"marker\": {\"color\": 0, \"size\": 6}, \"mode\": \"markers\", \"name\": \"Cluster #0\", \"type\": \"scatter\", \"x\": [-18.792888641357422, -6.359101295471191, -16.987199783325195, -18.37195587158203, -17.815261840820312, -17.117050170898438, -18.40074920654297, -17.25127601623535, -7.22019624710083, -15.269274711608887, -8.684914588928223, -8.9695463180542, -10.150256156921387, -0.43729257583618164, -5.612285137176514, -8.51904010772705, -13.49256706237793, -14.15950870513916, -11.11767578125, -15.227645874023438, -10.868999481201172, -13.606348037719727, -1.771955966949463, -10.43738079071045, -4.629528999328613, -15.14443588256836, -12.713956832885742, -5.7699198722839355, -2.3509645462036133, -1.6579049825668335, -2.51379132270813, -1.0295226573944092, -3.917367458343506, -5.530394077301025, -15.406373023986816, -4.867835998535156, -5.39364767074585, -4.694414138793945, -4.835718154907227, -7.159255027770996, -3.353544235229492, -11.735278129577637, -7.15880823135376, -3.3249011039733887, -9.981496810913086, -13.845871925354004, -3.572638988494873, -11.877649307250977, -13.983119010925293, -3.9380905628204346, -6.252174377441406, -11.38838005065918, -3.8950307369232178, -5.803030490875244, -7.014378070831299, -7.279985427856445, -8.814591407775879, -11.536508560180664, -13.779943466186523, -10.293604850769043, -6.451507091522217, -13.447115898132324, -6.3642659187316895, -11.075264930725098, -2.848782777786255, -5.257030010223389, -7.662460803985596, -2.608556032180786, -10.579917907714844, -9.995932579040527, -21.191608428955078, -12.61050033569336, -9.512723922729492, -15.694941520690918, -4.7023210525512695, -8.225175857543945, -14.24056625366211, -4.894737243652344, -12.693032264709473, -21.260276794433594, -7.082281112670898, -14.308968544006348, -8.68757438659668, -0.5368062257766724, -4.23607063293457, -11.314702987670898, -14.588356971740723, -11.728503227233887, -1.6488910913467407, -11.756260871887207, -13.499058723449707, -17.758769989013672, -17.709314346313477, -7.87113618850708, -13.077786445617676, -13.541631698608398, -1.2121649980545044, -5.103813171386719, -15.063093185424805, -9.071178436279297, -1.98170804977417, -7.2405686378479, -15.125709533691406, -8.795602798461914, -4.5854268074035645, -16.058429718017578, -18.597875595092773, -6.923519611358643, -4.2040696144104, -19.680049896240234, -19.460668563842773, -16.40517807006836, -6.0535688400268555, -8.476041793823242, -7.137407302856445, -9.908008575439453, -5.957263946533203, -10.228212356567383, -9.759210586547852, -6.038120746612549, -9.854549407958984, -4.626931667327881, -8.369964599609375, -9.627947807312012, -18.118974685668945, -5.584887981414795, -11.862936973571777, -7.675077438354492, -12.647215843200684, -7.972902297973633, -7.854093551635742, -10.852063179016113, -8.94156551361084, -9.722476959228516, -4.106724262237549, -8.580212593078613, -4.223865509033203, -8.819828987121582, -6.7536115646362305, -12.823638916015625, -12.677520751953125, -11.496209144592285, -9.607216835021973, -9.47055721282959, -12.28829574584961, -10.84931468963623, -11.339357376098633, -11.584794044494629, -10.217020034790039, -8.105483055114746, -10.516003608703613, -11.437870979309082, -13.005162239074707, -13.026812553405762, -12.231252670288086, -9.608570098876953, -9.804725646972656, -17.73521614074707, -18.040447235107422, -7.869976997375488, -10.758859634399414, -12.155143737792969, -12.396833419799805, -8.91161823272705, -14.827095985412598, -11.011363983154297, -13.27413558959961, -11.635648727416992, -6.075013637542725, -11.139878273010254, -8.999781608581543, -8.780714988708496, -9.997076988220215], \"y\": [-24.40776252746582, -22.97444725036621, -23.01962661743164, -16.25616455078125, -19.92514419555664, -22.34772491455078, -16.34895133972168, -17.02028465270996, -8.3603515625, -6.513255596160889, -11.061970710754395, -6.411294460296631, -15.13646411895752, -19.517290115356445, -11.792664527893066, -12.911108016967773, -20.475412368774414, -13.226263999938965, -17.101900100708008, -25.36767578125, -10.79840087890625, -15.370086669921875, -21.25151824951172, -10.709056854248047, -19.210031509399414, -19.623966217041016, -12.972622871398926, -16.414621353149414, -19.886350631713867, -14.759378433227539, -11.379847526550293, -19.0082950592041, -17.464529037475586, -14.898392677307129, -25.015493392944336, -14.668867111206055, -9.257427215576172, -12.168667793273926, -16.08835792541504, -19.139225006103516, -14.882735252380371, -21.547119140625, -9.720189094543457, -16.180936813354492, -16.64300537109375, -22.435955047607422, -16.294095993041992, -18.005098342895508, -23.603166580200195, -14.821940422058105, -16.219974517822266, -23.555442810058594, -13.506003379821777, -10.61313247680664, -19.8414363861084, -16.484174728393555, -18.7311954498291, -20.834186553955078, -21.883615493774414, -12.164084434509277, -18.21061134338379, -18.460777282714844, -11.550190925598145, -20.674076080322266, -17.02461051940918, -17.746728897094727, -9.354406356811523, -15.850142478942871, -10.503828048706055, -14.50922679901123, -20.980531692504883, -9.960301399230957, -15.458345413208008, -23.55673599243164, -21.776607513427734, -23.79274559020996, -18.774131774902344, -21.521648406982422, -10.78254222869873, -20.96805191040039, -13.86829662322998, -17.84861183166504, -9.370585441589355, -17.749359130859375, -22.816781997680664, -8.922735214233398, -18.611583709716797, -8.973922729492188, -21.35965347290039, -12.138136863708496, -20.357913970947266, -20.71461296081543, -21.670564651489258, -13.114371299743652, -18.58131980895996, -10.581432342529297, -18.183597564697266, -19.09910774230957, -11.841856002807617, -19.740468978881836, -20.345142364501953, -17.63927459716797, -6.893185138702393, -19.769258499145508, -3.2856717109680176, -11.779532432556152, -22.7241268157959, -21.041912078857422, -2.1028265953063965, -24.36469268798828, -24.342561721801758, -17.406749725341797, -1.0261422395706177, -21.670778274536133, 0.7750420570373535, -21.794355392456055, 0.5166045427322388, -23.58856773376465, -20.35004425048828, -1.1122738122940063, -20.532047271728516, -3.5723230838775635, -20.736289978027344, -12.060380935668945, -13.956003189086914, -25.36551856994629, -16.053884506225586, -11.991145133972168, -14.047868728637695, -11.423994064331055, -16.48018455505371, -18.08642578125, -20.598344802856445, -18.44025421142578, -1.4432852268218994, -17.52912712097168, -0.7368035316467285, -22.737075805664062, -0.9286115765571594, -26.875205993652344, -25.680130004882812, -25.548274993896484, -26.611452102661133, -26.689682006835938, -24.275962829589844, -25.024911880493164, -27.009122848510742, -24.65595245361328, -27.073413848876953, -24.264677047729492, -24.823341369628906, -24.544578552246094, -25.612037658691406, -24.621440887451172, -26.699193954467773, -24.71465492248535, -17.90750503540039, -12.959271430969238, -10.57327651977539, -14.781574249267578, -15.181608200073242, -15.267062187194824, -16.91598129272461, -6.390220642089844, -14.09127426147461, -13.606224060058594, -11.283190727233887, -14.648186683654785, -20.453006744384766, -7.779947280883789, -14.522452354431152, -14.766520500183105, -13.801570892333984]}, {\"marker\": {\"color\": 0, \"size\": 6}, \"mode\": \"markers\", \"name\": \"Cluster #1\", \"type\": \"scatter\", \"x\": [-19.55194664001465, 6.442681312561035, -18.3442440032959, -19.7340030670166, -21.023273468017578, -18.937498092651367, -13.124066352844238, -20.868606567382812, -19.023662567138672, -13.630289077758789, 19.06903839111328, 16.315296173095703, -15.240467071533203, 9.224334716796875, 8.000454902648926, -12.484681129455566, 21.090208053588867, 7.568943500518799, 23.7611026763916, 9.138578414916992, 20.47197914123535, 5.821564674377441, 20.239572525024414, 6.647310733795166, 27.499027252197266, 13.426198959350586, 9.555258750915527, 5.983173847198486, 23.601787567138672, 10.400346755981445, 27.925880432128906, 9.983650207519531, 9.486039161682129, 4.2921528816223145, 22.99640464782715, 8.181487083435059, 26.207069396972656, 11.45720386505127, 19.0100154876709, 4.503633499145508, 24.57366943359375, 8.4633207321167, 17.316648483276367, 13.711149215698242, 19.546001434326172, 6.359968662261963, 21.271223068237305, 9.817554473876953, 2.7984485626220703, -2.0385115146636963, 28.393720626831055, 5.560035705566406, 19.9909610748291, 3.8308441638946533, 19.60370445251465, 16.83829689025879, 23.744556427001953, 9.427277565002441, 19.32200813293457, 0.21920175850391388, 1.5870985984802246, -1.661695122718811, 13.973474502563477, 12.593643188476562, 14.048023223876953, 0.9172977209091187, 1.7399169206619263, 4.309770584106445, 17.032258987426758, 1.0522220134735107, 14.177669525146484, 1.9892942905426025, -3.9970223903656006, -3.4924235343933105, 17.92715072631836, -1.00002121925354, 11.88004207611084, 0.1953774243593216, 0.6432299613952637, -3.3129220008850098, 18.816011428833008, 3.5879454612731934, 18.117176055908203, -4.95595645904541, -2.4834961891174316, -2.14864444732666, 18.173967361450195, -0.10855402052402496, 11.298118591308594, 1.7290542125701904, -0.2955239415168762, -3.5870699882507324, 18.79551887512207, -0.6757959723472595, -0.49954840540885925, 1.1847083568572998, -1.2887341976165771, -3.47007417678833, 18.53840446472168, -0.45068949460983276, 5.958510875701904, 1.5628939867019653, -2.9082183837890625, -3.4870989322662354, 14.921802520751953, 1.717076063156128, 1.6972326040267944, 1.381899356842041, -4.164514541625977, -2.2885732650756836, 16.58725357055664, -0.855638861656189, 18.313087463378906, 9.013818740844727, -1.268559455871582, -0.47069770097732544, 18.028682708740234, 3.3006134033203125, 20.734853744506836, 10.546188354492188, -1.3207746744155884, 0.056446339935064316, 15.5870943069458, 6.097091197967529, 20.744916915893555, 10.87269115447998, 18.55062484741211, 10.683549880981445, 16.726472854614258, -0.4217531085014343, 24.474082946777344, 7.893673419952393, 17.2502384185791, 12.3217134475708, 16.42789077758789, -2.3219447135925293, 23.71152114868164, 4.85858154296875, 8.6138916015625, 6.053920269012451, -21.70892906188965, -17.74896240234375, 21.90449333190918, 10.150991439819336, 7.965646743774414, 5.907957077026367, 15.710965156555176, 2.1604723930358887, 20.11087417602539, 4.3482537269592285, 25.100767135620117, 12.694958686828613, 4.067032814025879, -1.974098801612854, -15.343629837036133, 14.297377586364746, 28.483827590942383, 13.634483337402344, 15.211126327514648, 6.843782901763916, -18.640914916992188, -21.619108200073242, 24.626436233520508, 13.46008586883545, 21.023059844970703, 11.902880668640137, 13.347555160522461, 26.97348976135254, 17.411218643188477, 18.843109130859375, 4.578176021575928, -12.18047046661377, 28.386884689331055, 14.645686149597168, 18.865650177001953, 6.160950183868408, -20.992652893066406, 12.103500366210938, 25.186986923217773, 17.007598876953125, 19.81466293334961, 5.935685157775879, 7.094085693359375, 27.159494400024414, 16.495481491088867, 22.35378646850586, 8.573461532592773, 26.876914978027344, 15.536176681518555, 28.33601951599121, 10.61784839630127, 20.086681365966797, 12.720767974853516, 24.16533088684082, 6.583669662475586, -3.440838098526001, -3.9281082153320312, 21.234695434570312, 13.561762809753418, -2.3288357257843018, -1.8834331035614014, -3.082888126373291, -4.547414302825928, -3.1742751598358154, -3.695664882659912, -4.855206489562988, -3.532703399658203, -6.874139785766602, -4.567546844482422, -4.054312229156494, -5.335616111755371, -3.8899402618408203, 7.574949264526367, 11.142196655273438, -15.93136978149414, 15.404940605163574, 12.004670143127441, 13.323225021362305, 11.451128005981445, 24.53589630126953, 17.267595291137695, 29.807384490966797, 16.23948097229004, 22.507793426513672, 17.423263549804688, 2.8995285034179688, 5.272923946380615, -0.9142992496490479, -1.4710286855697632, -6.48414421081543, -3.492841958999634, -4.3615241050720215, -3.9218602180480957, -5.657436370849609, -2.5235464572906494, -6.246353626251221, -8.135763168334961, -9.37674617767334, -3.73337984085083, -7.432444095611572, -7.740207672119141, -9.475279808044434, -7.156641483306885, -11.075960159301758, -5.010380268096924, -7.745285987854004, -7.526666641235352, -8.22060489654541, -6.332434177398682, -7.918820858001709, -5.5391106605529785, -8.15484619140625, -4.658044338226318, -8.687975883483887, -5.199381351470947, -8.400165557861328, -5.937931060791016, -8.496654510498047, -8.199874877929688, -7.647436618804932, -7.179566860198975, -10.807558059692383, -6.865315914154053, -9.214669227600098, -6.098888874053955, -11.15554141998291, 1.8024795055389404, 11.077227592468262, 11.786285400390625, 11.143155097961426, -15.886043548583984, -18.412649154663086, 7.6862664222717285, 8.522337913513184, 8.255690574645996, 23.676021575927734, 8.94737720489502, 26.81787109375, 17.886863708496094, 26.084529876708984, 14.715391159057617, 26.699392318725586, 15.792943954467773, 28.68161964416504, 13.23820686340332, 26.015819549560547, 5.582159519195557, 26.36258888244629, 15.351405143737793, 28.57347297668457, 6.966541290283203, 26.405664443969727, 14.539687156677246, 28.857778549194336, 14.334038734436035, 25.045265197753906, 11.945708274841309, 25.71780776977539, 15.7390775680542, 25.56690216064453], \"y\": [-12.168753623962402, -9.824520111083984, -9.077701568603516, -12.827668190002441, -11.672075271606445, -7.7410759925842285, -8.574268341064453, -11.855402946472168, -8.127610206604004, -6.863935947418213, 3.0169074535369873, 5.28104305267334, -5.794653415679932, 3.5931785106658936, 8.286676406860352, -6.729278564453125, 9.193758964538574, 14.760464668273926, 8.673718452453613, 8.277751922607422, 12.920028686523438, 9.189477920532227, 9.50558853149414, 12.12562370300293, 15.414546966552734, 11.473447799682617, 1.930341362953186, 5.092587471008301, 11.38119125366211, 9.364270210266113, 9.589420318603516, 11.33161449432373, 1.699305772781372, 7.7926530838012695, 14.363783836364746, 9.32614517211914, 15.734475135803223, 5.380145072937012, 14.317048072814941, 8.748361587524414, 12.596444129943848, 12.41711711883545, 1.988456130027771, 4.8546881675720215, 7.637142658233643, 7.864120960235596, 10.147275924682617, 6.628935813903809, 14.438545227050781, 10.312321662902832, 12.8778076171875, 1.8731132745742798, 4.989367961883545, 12.314190864562988, 2.945011615753174, 3.384903907775879, 12.123800277709961, 9.854280471801758, 6.4985456466674805, 10.584189414978027, 14.479779243469238, 9.079610824584961, 6.4462761878967285, 4.935442924499512, 2.4911909103393555, 8.867305755615234, 17.329898834228516, 13.587764739990234, 15.371659278869629, 12.133983612060547, 2.6870367527008057, 8.317031860351562, 12.6966552734375, 7.915416240692139, 15.948697090148926, 9.754847526550293, 9.573221206665039, 6.361005783081055, 16.6337947845459, 1.4501994848251343, 9.854558944702148, 13.721744537353516, 18.84319305419922, 6.539861679077148, 17.71670150756836, 3.854628562927246, 16.59693145751953, 7.730105876922607, 15.769875526428223, 9.881052017211914, 15.305624008178711, 4.45257568359375, 16.5529727935791, 8.396594047546387, 4.25974178314209, 7.24603796005249, 14.782166481018066, 4.451455116271973, 16.97748374938965, 8.850814819335938, 15.341257095336914, 10.546547889709473, 13.537330627441406, 7.878764629364014, 17.619529724121094, 4.138149738311768, 3.1878855228424072, 8.91411018371582, 14.590819358825684, 3.1143147945404053, 17.02764320373535, 7.4756059646606445, 4.974020957946777, 11.47326374053955, 17.20197868347168, 0.5211605429649353, 18.923128128051758, 9.66280746459961, 12.216075897216797, 8.85069465637207, 18.06049919128418, 0.6777172088623047, 16.284372329711914, 13.487972259521484, 14.360355377197266, 12.561490058898926, 3.3953378200531006, 14.491471290588379, 17.293506622314453, 7.399568557739258, 10.410806655883789, 6.457643508911133, 1.7704073190689087, 8.035346984863281, 18.41813087463379, 5.16921854019165, 4.92253303527832, 5.882254123687744, 4.4345502853393555, 3.9073503017425537, -10.309305191040039, -7.727738380432129, 10.632006645202637, 6.650476455688477, 4.644822120666504, 3.7915151119232178, 16.95051383972168, 3.6906120777130127, 11.529098510742188, 5.812431812286377, 9.779391288757324, 8.994234085083008, -3.748162269592285, 5.86152982711792, -15.576591491699219, 6.382761478424072, 11.322915077209473, 9.660439491271973, 15.73827075958252, 13.670967102050781, -18.819442749023438, -14.143403053283691, 14.264817237854004, 8.94260311126709, 4.8274760246276855, 4.831456661224365, 20.186159133911133, 10.2628173828125, 7.892390727996826, 11.755367279052734, 9.390419960021973, -6.197010517120361, 14.732690811157227, 11.396988868713379, 13.606313705444336, 6.694120407104492, -14.2963228225708, 21.636423110961914, 6.432286262512207, 9.549359321594238, 13.679733276367188, 6.283903121948242, -8.660393714904785, 12.73638916015625, 11.391674041748047, 11.99483585357666, 7.120977878570557, 9.36055850982666, 11.385296821594238, 12.271464347839355, 5.5083088874816895, 14.74819278717041, 6.928726673126221, 10.350018501281738, 12.933932304382324, 14.573498725891113, 0.29646673798561096, 6.837541580200195, 0.17366428673267365, 15.181599617004395, -0.7318069934844971, 15.012873649597168, 15.2685546875, 17.020841598510742, 15.984563827514648, 15.936281204223633, 17.76753044128418, -3.1482722759246826, 15.732353210449219, 16.598329544067383, 14.418815612792969, -4.274768829345703, 10.361987113952637, 11.768084526062012, -9.293120384216309, 4.791121482849121, 0.9952945709228516, 14.040098190307617, 6.459377288818359, 16.29728126525879, 6.689796447753906, 12.529942512512207, 8.068380355834961, 15.003031730651855, 6.343555927276611, 17.648780822753906, 12.123635292053223, 16.130653381347656, 0.2141484171152115, 14.49603271484375, -0.6548104286193848, 16.589981079101562, 15.154046058654785, 15.83924674987793, 15.942748069763184, 0.5948307514190674, 17.880661010742188, 5.4919257164001465, 19.207054138183594, 4.974073886871338, 18.21076202392578, 4.785919666290283, 19.70821762084961, 3.85469651222229, 18.448772430419922, 5.740708351135254, 18.533723831176758, 4.702190399169922, 20.383882522583008, 7.255224227905273, 18.420196533203125, 6.611246585845947, 18.911638259887695, 4.015307426452637, 20.122652053833008, 4.085438251495361, 20.823436737060547, 5.672286033630371, 19.01155662536621, 3.800740957260132, 17.654062271118164, 4.162075519561768, 19.310382843017578, 3.4460370540618896, 17.8310604095459, 5.0478739738464355, 15.244518280029297, 7.383903980255127, 13.153724670410156, 12.933598518371582, -9.751723289489746, -12.644429206848145, -9.208471298217773, 18.182464599609375, 15.631316184997559, 8.508245468139648, 7.887644290924072, 8.030702590942383, 13.009589195251465, 11.71263313293457, 9.118001937866211, 9.433481216430664, 8.799591064453125, 13.80938720703125, 10.78426456451416, 10.906792640686035, 0.022534290328621864, 13.0681791305542, 9.404657363891602, 9.970473289489746, 1.2682576179504395, 14.396600723266602, 12.057230949401855, 10.103355407714844, 10.422765731811523, 14.21022891998291, 10.51484489440918, 12.360611915588379, 10.864097595214844, 11.815115928649902]}, {\"marker\": {\"color\": 1, \"size\": 6}, \"mode\": \"markers\", \"name\": \"Cluster #2\", \"type\": \"scatter\", \"x\": [8.743182182312012, 15.285211563110352, 11.47350025177002, 16.26652717590332, 12.149961471557617, 14.686417579650879, 12.616666793823242, 13.492250442504883, 21.846879959106445, 16.166152954101562, 10.943970680236816, 12.967008590698242, 14.677327156066895, 10.685409545898438, 16.44223976135254, 13.976269721984863, 11.14732837677002, 12.83277416229248, 7.173774242401123, 14.485123634338379, 17.956823348999023, 8.141358375549316, -19.48981475830078, 13.734498977661133, 17.953216552734375, 8.385042190551758, 11.192395210266113], \"y\": [18.31743621826172, -5.94744873046875, 19.96480941772461, -6.145854949951172, 20.290903091430664, -7.403024673461914, 20.314096450805664, -6.435726642608643, 3.513486385345459, -6.035542964935303, 16.158695220947266, -5.223147392272949, -7.434359550476074, 19.23151206970215, -6.050473213195801, -6.124670505523682, 20.352577209472656, -5.7662739753723145, -8.542305946350098, -1.6964837312698364, -3.1333274841308594, -8.192885398864746, -6.921745777130127, -3.7638916969299316, -3.1409497261047363, -8.227832794189453, -5.653684139251709]}, {\"marker\": {\"color\": \"red\", \"size\": 10, \"symbol\": \"star-dot\"}, \"mode\": \"markers\", \"name\": \"Centers\", \"type\": \"scatter\", \"x\": [-10.533492088317871, 11.748540878295898, 13.537793159484863], \"y\": [-15.503710746765137, 9.102202415466309, -4.957772254943848]}],\n",
              "                        {\"showlegend\": true, \"template\": {\"data\": {\"bar\": [{\"error_x\": {\"color\": \"#2a3f5f\"}, \"error_y\": {\"color\": \"#2a3f5f\"}, \"marker\": {\"line\": {\"color\": \"#E5ECF6\", \"width\": 0.5}}, \"type\": \"bar\"}], \"barpolar\": [{\"marker\": {\"line\": {\"color\": \"#E5ECF6\", \"width\": 0.5}}, \"type\": \"barpolar\"}], \"carpet\": [{\"aaxis\": {\"endlinecolor\": \"#2a3f5f\", \"gridcolor\": \"white\", \"linecolor\": \"white\", \"minorgridcolor\": \"white\", \"startlinecolor\": \"#2a3f5f\"}, \"baxis\": {\"endlinecolor\": \"#2a3f5f\", \"gridcolor\": \"white\", \"linecolor\": \"white\", \"minorgridcolor\": \"white\", \"startlinecolor\": \"#2a3f5f\"}, \"type\": \"carpet\"}], \"choropleth\": [{\"colorbar\": {\"outlinewidth\": 0, \"ticks\": \"\"}, \"type\": \"choropleth\"}], \"contour\": [{\"colorbar\": {\"outlinewidth\": 0, \"ticks\": \"\"}, \"colorscale\": [[0.0, \"#0d0887\"], [0.1111111111111111, \"#46039f\"], [0.2222222222222222, \"#7201a8\"], [0.3333333333333333, \"#9c179e\"], [0.4444444444444444, \"#bd3786\"], [0.5555555555555556, \"#d8576b\"], [0.6666666666666666, \"#ed7953\"], [0.7777777777777778, \"#fb9f3a\"], [0.8888888888888888, \"#fdca26\"], [1.0, \"#f0f921\"]], \"type\": \"contour\"}], \"contourcarpet\": [{\"colorbar\": {\"outlinewidth\": 0, \"ticks\": \"\"}, \"type\": \"contourcarpet\"}], \"heatmap\": [{\"colorbar\": {\"outlinewidth\": 0, \"ticks\": \"\"}, \"colorscale\": [[0.0, \"#0d0887\"], [0.1111111111111111, \"#46039f\"], [0.2222222222222222, \"#7201a8\"], [0.3333333333333333, \"#9c179e\"], [0.4444444444444444, \"#bd3786\"], [0.5555555555555556, \"#d8576b\"], [0.6666666666666666, \"#ed7953\"], [0.7777777777777778, \"#fb9f3a\"], [0.8888888888888888, \"#fdca26\"], [1.0, \"#f0f921\"]], \"type\": \"heatmap\"}], \"heatmapgl\": [{\"colorbar\": {\"outlinewidth\": 0, \"ticks\": \"\"}, \"colorscale\": [[0.0, \"#0d0887\"], [0.1111111111111111, \"#46039f\"], [0.2222222222222222, \"#7201a8\"], [0.3333333333333333, \"#9c179e\"], [0.4444444444444444, \"#bd3786\"], [0.5555555555555556, \"#d8576b\"], [0.6666666666666666, \"#ed7953\"], [0.7777777777777778, \"#fb9f3a\"], [0.8888888888888888, \"#fdca26\"], [1.0, \"#f0f921\"]], \"type\": \"heatmapgl\"}], \"histogram\": [{\"marker\": {\"colorbar\": {\"outlinewidth\": 0, \"ticks\": \"\"}}, \"type\": \"histogram\"}], \"histogram2d\": [{\"colorbar\": {\"outlinewidth\": 0, \"ticks\": \"\"}, \"colorscale\": [[0.0, \"#0d0887\"], [0.1111111111111111, \"#46039f\"], [0.2222222222222222, \"#7201a8\"], [0.3333333333333333, \"#9c179e\"], [0.4444444444444444, \"#bd3786\"], [0.5555555555555556, \"#d8576b\"], [0.6666666666666666, \"#ed7953\"], [0.7777777777777778, \"#fb9f3a\"], [0.8888888888888888, \"#fdca26\"], [1.0, \"#f0f921\"]], \"type\": \"histogram2d\"}], \"histogram2dcontour\": [{\"colorbar\": {\"outlinewidth\": 0, \"ticks\": \"\"}, \"colorscale\": [[0.0, \"#0d0887\"], [0.1111111111111111, \"#46039f\"], [0.2222222222222222, \"#7201a8\"], [0.3333333333333333, \"#9c179e\"], [0.4444444444444444, \"#bd3786\"], [0.5555555555555556, \"#d8576b\"], [0.6666666666666666, \"#ed7953\"], [0.7777777777777778, \"#fb9f3a\"], [0.8888888888888888, \"#fdca26\"], [1.0, \"#f0f921\"]], \"type\": \"histogram2dcontour\"}], \"mesh3d\": [{\"colorbar\": {\"outlinewidth\": 0, \"ticks\": \"\"}, \"type\": \"mesh3d\"}], \"parcoords\": [{\"line\": {\"colorbar\": {\"outlinewidth\": 0, \"ticks\": \"\"}}, \"type\": \"parcoords\"}], \"pie\": [{\"automargin\": true, \"type\": \"pie\"}], \"scatter\": [{\"marker\": {\"colorbar\": {\"outlinewidth\": 0, \"ticks\": \"\"}}, \"type\": \"scatter\"}], \"scatter3d\": [{\"line\": {\"colorbar\": {\"outlinewidth\": 0, \"ticks\": \"\"}}, \"marker\": {\"colorbar\": {\"outlinewidth\": 0, \"ticks\": \"\"}}, \"type\": \"scatter3d\"}], \"scattercarpet\": [{\"marker\": {\"colorbar\": {\"outlinewidth\": 0, \"ticks\": \"\"}}, \"type\": \"scattercarpet\"}], \"scattergeo\": [{\"marker\": {\"colorbar\": {\"outlinewidth\": 0, \"ticks\": \"\"}}, \"type\": \"scattergeo\"}], \"scattergl\": [{\"marker\": {\"colorbar\": {\"outlinewidth\": 0, \"ticks\": \"\"}}, \"type\": \"scattergl\"}], \"scattermapbox\": [{\"marker\": {\"colorbar\": {\"outlinewidth\": 0, \"ticks\": \"\"}}, \"type\": \"scattermapbox\"}], \"scatterpolar\": [{\"marker\": {\"colorbar\": {\"outlinewidth\": 0, \"ticks\": \"\"}}, \"type\": \"scatterpolar\"}], \"scatterpolargl\": [{\"marker\": {\"colorbar\": {\"outlinewidth\": 0, \"ticks\": \"\"}}, \"type\": \"scatterpolargl\"}], \"scatterternary\": [{\"marker\": {\"colorbar\": {\"outlinewidth\": 0, \"ticks\": \"\"}}, \"type\": \"scatterternary\"}], \"surface\": [{\"colorbar\": {\"outlinewidth\": 0, \"ticks\": \"\"}, \"colorscale\": [[0.0, \"#0d0887\"], [0.1111111111111111, \"#46039f\"], [0.2222222222222222, \"#7201a8\"], [0.3333333333333333, \"#9c179e\"], [0.4444444444444444, \"#bd3786\"], [0.5555555555555556, \"#d8576b\"], [0.6666666666666666, \"#ed7953\"], [0.7777777777777778, \"#fb9f3a\"], [0.8888888888888888, \"#fdca26\"], [1.0, \"#f0f921\"]], \"type\": \"surface\"}], \"table\": [{\"cells\": {\"fill\": {\"color\": \"#EBF0F8\"}, \"line\": {\"color\": \"white\"}}, \"header\": {\"fill\": {\"color\": \"#C8D4E3\"}, \"line\": {\"color\": \"white\"}}, \"type\": \"table\"}]}, \"layout\": {\"annotationdefaults\": {\"arrowcolor\": \"#2a3f5f\", \"arrowhead\": 0, \"arrowwidth\": 1}, \"coloraxis\": {\"colorbar\": {\"outlinewidth\": 0, \"ticks\": \"\"}}, \"colorscale\": {\"diverging\": [[0, \"#8e0152\"], [0.1, \"#c51b7d\"], [0.2, \"#de77ae\"], [0.3, \"#f1b6da\"], [0.4, \"#fde0ef\"], [0.5, \"#f7f7f7\"], [0.6, \"#e6f5d0\"], [0.7, \"#b8e186\"], [0.8, \"#7fbc41\"], [0.9, \"#4d9221\"], [1, \"#276419\"]], \"sequential\": [[0.0, \"#0d0887\"], [0.1111111111111111, \"#46039f\"], [0.2222222222222222, \"#7201a8\"], [0.3333333333333333, \"#9c179e\"], [0.4444444444444444, \"#bd3786\"], [0.5555555555555556, \"#d8576b\"], [0.6666666666666666, \"#ed7953\"], [0.7777777777777778, \"#fb9f3a\"], [0.8888888888888888, \"#fdca26\"], [1.0, \"#f0f921\"]], \"sequentialminus\": [[0.0, \"#0d0887\"], [0.1111111111111111, \"#46039f\"], [0.2222222222222222, \"#7201a8\"], [0.3333333333333333, \"#9c179e\"], [0.4444444444444444, \"#bd3786\"], [0.5555555555555556, \"#d8576b\"], [0.6666666666666666, \"#ed7953\"], [0.7777777777777778, \"#fb9f3a\"], [0.8888888888888888, \"#fdca26\"], [1.0, \"#f0f921\"]]}, \"colorway\": [\"#636efa\", \"#EF553B\", \"#00cc96\", \"#ab63fa\", \"#FFA15A\", \"#19d3f3\", \"#FF6692\", \"#B6E880\", \"#FF97FF\", \"#FECB52\"], \"font\": {\"color\": \"#2a3f5f\"}, \"geo\": {\"bgcolor\": \"white\", \"lakecolor\": \"white\", \"landcolor\": \"#E5ECF6\", \"showlakes\": true, \"showland\": true, \"subunitcolor\": \"white\"}, \"hoverlabel\": {\"align\": \"left\"}, \"hovermode\": \"closest\", \"mapbox\": {\"style\": \"light\"}, \"paper_bgcolor\": \"white\", \"plot_bgcolor\": \"#E5ECF6\", \"polar\": {\"angularaxis\": {\"gridcolor\": \"white\", \"linecolor\": \"white\", \"ticks\": \"\"}, \"bgcolor\": \"#E5ECF6\", \"radialaxis\": {\"gridcolor\": \"white\", \"linecolor\": \"white\", \"ticks\": \"\"}}, \"scene\": {\"xaxis\": {\"backgroundcolor\": \"#E5ECF6\", \"gridcolor\": \"white\", \"gridwidth\": 2, \"linecolor\": \"white\", \"showbackground\": true, \"ticks\": \"\", \"zerolinecolor\": \"white\"}, \"yaxis\": {\"backgroundcolor\": \"#E5ECF6\", \"gridcolor\": \"white\", \"gridwidth\": 2, \"linecolor\": \"white\", \"showbackground\": true, \"ticks\": \"\", \"zerolinecolor\": \"white\"}, \"zaxis\": {\"backgroundcolor\": \"#E5ECF6\", \"gridcolor\": \"white\", \"gridwidth\": 2, \"linecolor\": \"white\", \"showbackground\": true, \"ticks\": \"\", \"zerolinecolor\": \"white\"}}, \"shapedefaults\": {\"line\": {\"color\": \"#2a3f5f\"}}, \"ternary\": {\"aaxis\": {\"gridcolor\": \"white\", \"linecolor\": \"white\", \"ticks\": \"\"}, \"baxis\": {\"gridcolor\": \"white\", \"linecolor\": \"white\", \"ticks\": \"\"}, \"bgcolor\": \"#E5ECF6\", \"caxis\": {\"gridcolor\": \"white\", \"linecolor\": \"white\", \"ticks\": \"\"}}, \"title\": {\"x\": 0.05}, \"xaxis\": {\"automargin\": true, \"gridcolor\": \"white\", \"linecolor\": \"white\", \"ticks\": \"\", \"title\": {\"standoff\": 15}, \"zerolinecolor\": \"white\", \"zerolinewidth\": 2}, \"yaxis\": {\"automargin\": true, \"gridcolor\": \"white\", \"linecolor\": \"white\", \"ticks\": \"\", \"title\": {\"standoff\": 15}, \"zerolinecolor\": \"white\", \"zerolinewidth\": 2}}}, \"title\": {\"text\": \"\"}},\n",
              "                        {\"responsive\": true}\n",
              "                    ).then(function(){\n",
              "                            \n",
              "var gd = document.getElementById('b0e307bf-7d15-45b4-a69e-93caccf7a6b6');\n",
              "var x = new MutationObserver(function (mutations, observer) {{\n",
              "        var display = window.getComputedStyle(gd).display;\n",
              "        if (!display || display === 'none') {{\n",
              "            console.log([gd, 'removed!']);\n",
              "            Plotly.purge(gd);\n",
              "            observer.disconnect();\n",
              "        }}\n",
              "}});\n",
              "\n",
              "// Listen for the removal of the full notebook cells\n",
              "var notebookContainer = gd.closest('#notebook-container');\n",
              "if (notebookContainer) {{\n",
              "    x.observe(notebookContainer, {childList: true});\n",
              "}}\n",
              "\n",
              "// Listen for the clearing of the current output cell\n",
              "var outputEl = gd.closest('.output');\n",
              "if (outputEl) {{\n",
              "    x.observe(outputEl, {childList: true});\n",
              "}}\n",
              "\n",
              "                        })\n",
              "                };\n",
              "                \n",
              "            </script>\n",
              "        </div>\n",
              "</body>\n",
              "</html>"
            ]
          },
          "metadata": {
            "tags": []
          }
        }
      ]
    }
  ]
}